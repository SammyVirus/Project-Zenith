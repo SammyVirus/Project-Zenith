{
 "cells": [
  {
   "cell_type": "code",
   "execution_count": 1,
   "metadata": {},
   "outputs": [
    {
     "name": "stderr",
     "output_type": "stream",
     "text": [
      "Using TensorFlow backend.\n"
     ]
    }
   ],
   "source": [
    "import os\n",
    "import cv2\n",
    "import tqdm\n",
    "import numpy as np\n",
    "from sklearn.utils import shuffle\n",
    "from sklearn.model_selection import train_test_split\n",
    "import matplotlib.pyplot as plt\n",
    "\n",
    "import keras\n",
    "from keras.datasets import mnist\n",
    "from keras.models import Sequential\n",
    "from keras.layers import Dense, Dropout, Flatten, BatchNormalization, Activation\n",
    "from keras.layers import Conv2D, MaxPooling2D\n",
    "from keras import backend as K"
   ]
  },
  {
   "cell_type": "markdown",
   "metadata": {},
   "source": [
    "Boxes"
   ]
  },
  {
   "cell_type": "code",
   "execution_count": null,
   "metadata": {},
   "outputs": [],
   "source": [
    "# x = []\n",
    "# y = []\n",
    "\n",
    "# size = 360\n",
    "\n",
    "# batch_size = 1\n",
    "# num_classes = 2\n",
    "# epochs = 12"
   ]
  },
  {
   "cell_type": "code",
   "execution_count": null,
   "metadata": {
    "scrolled": true
   },
   "outputs": [],
   "source": [
    "# dir_box = os.listdir('boxes')\n",
    "# #dir_box.remove('.DS_Store')\n",
    "\n",
    "# for i in tqdm.tqdm(dir_box[:500]):\n",
    "#     img = cv2.imread('boxes/' + str(i))\n",
    "#     img = cv2.resize(img, (size, size),  interpolation = cv2.INTER_AREA)\n",
    "#     x.append(img)\n",
    "#     y.append(1)"
   ]
  },
  {
   "cell_type": "markdown",
   "metadata": {},
   "source": [
    "Non-boxes"
   ]
  },
  {
   "cell_type": "code",
   "execution_count": null,
   "metadata": {
    "scrolled": true
   },
   "outputs": [],
   "source": [
    "# dir_box = os.listdir('no_boxes')\n",
    "# #dir_box.remove('.DS_Store')\n",
    "\n",
    "# for i in tqdm.tqdm(dir_box[:500]):\n",
    "#     img = cv2.imread('no_boxes/' + str(i))\n",
    "#     img = cv2.resize(img, (size, size),  interpolation = cv2.INTER_AREA)\n",
    "#     x.append(img)\n",
    "#     y.append(0)"
   ]
  },
  {
   "cell_type": "code",
   "execution_count": null,
   "metadata": {},
   "outputs": [],
   "source": [
    "# x = np.array(x)\n",
    "# y = np.array(y)"
   ]
  },
  {
   "cell_type": "code",
   "execution_count": null,
   "metadata": {},
   "outputs": [],
   "source": [
    "# plt.imshow(x[4])"
   ]
  },
  {
   "cell_type": "code",
   "execution_count": null,
   "metadata": {
    "scrolled": true
   },
   "outputs": [],
   "source": [
    "# for i in tqdm.tqdm(range(x.shape[0])):\n",
    "#     #X[i] = cv2.GaussianBlur(X[i], (3,3), 0)\n",
    "#     x[i] = cv2.fastNlMeansDenoisingColored(x[i],None,10,10,7,21)"
   ]
  },
  {
   "cell_type": "code",
   "execution_count": null,
   "metadata": {
    "scrolled": true
   },
   "outputs": [],
   "source": [
    "# plt.imshow(x[4])"
   ]
  },
  {
   "cell_type": "code",
   "execution_count": null,
   "metadata": {},
   "outputs": [],
   "source": [
    "# X, y = shuffle(x, y)"
   ]
  },
  {
   "cell_type": "code",
   "execution_count": null,
   "metadata": {},
   "outputs": [],
   "source": [
    "# X = X/255"
   ]
  },
  {
   "cell_type": "code",
   "execution_count": null,
   "metadata": {},
   "outputs": [],
   "source": [
    "# plt.imshow(X[0])"
   ]
  },
  {
   "cell_type": "code",
   "execution_count": 2,
   "metadata": {},
   "outputs": [],
   "source": [
    "X = np.load('train_data.npy')\n",
    "y = np.load('train_label.npy')"
   ]
  },
  {
   "cell_type": "code",
   "execution_count": 3,
   "metadata": {},
   "outputs": [
    {
     "data": {
      "text/plain": [
       "<matplotlib.image.AxesImage at 0x1fbe67d50>"
      ]
     },
     "execution_count": 3,
     "metadata": {},
     "output_type": "execute_result"
    },
    {
     "data": {
      "image/png": "[encoded data removed]",
      "text/plain": [
       "<Figure size 432x288 with 1 Axes>"
      ]
     },
     "metadata": {
      "needs_background": "light"
     },
     "output_type": "display_data"
    }
   ],
   "source": [
    "plt.imshow(X[0])"
   ]
  },
  {
   "cell_type": "markdown",
   "metadata": {},
   "source": [
    "Train Test split of data"
   ]
  },
  {
   "cell_type": "code",
   "execution_count": 4,
   "metadata": {},
   "outputs": [],
   "source": [
    "X_train, X_test, y_train, y_test = train_test_split(X, y, test_size=0.3, random_state=4)"
   ]
  },
  {
   "cell_type": "code",
   "execution_count": 5,
   "metadata": {},
   "outputs": [],
   "source": [
    "y_train = np.expand_dims(y_train, axis=1)\n",
    "y_test = np.expand_dims(y_test, axis=1)"
   ]
  },
  {
   "cell_type": "code",
   "execution_count": 8,
   "metadata": {},
   "outputs": [],
   "source": [
    "size = X_train[0].shape[0]"
   ]
  },
  {
   "cell_type": "code",
   "execution_count": 9,
   "metadata": {},
   "outputs": [],
   "source": [
    "input_shape = (size, size, 3)"
   ]
  },
  {
   "cell_type": "code",
   "execution_count": 10,
   "metadata": {},
   "outputs": [],
   "source": [
    "# model.add(Convolution2D(64, 3, 3, use_bias=False))\n",
    "# model.add(BatchNormalization(axis=bn_axis))\n",
    "# model.add(Activation('relu'))"
   ]
  },
  {
   "cell_type": "code",
   "execution_count": 11,
   "metadata": {},
   "outputs": [],
   "source": [
    "model = Sequential()\n",
    "model.add(Conv2D(6, kernel_size=(5, 5),\n",
    "                 activation='relu',\n",
    "                 input_shape=input_shape))\n",
    "model.add(Conv2D(12, (5, 5)))\n",
    "# model.add(BatchNormalization())\n",
    "model.add(Activation('relu'))\n",
    "model.add(MaxPooling2D(pool_size=(2, 2)))\n",
    "#model.add(Dropout(0.25))\n",
    "model.add(Conv2D(24, (5, 5)))\n",
    "# model.add(BatchNormalization())\n",
    "model.add(Activation('relu'))\n",
    "model.add(MaxPooling2D(pool_size=(3, 3)))\n",
    "#model.add(Dropout(0.25))\n",
    "model.add(Conv2D(48, (5, 5)))\n",
    "# model.add(BatchNormalization())\n",
    "model.add(Activation('relu'))\n",
    "model.add(MaxPooling2D(pool_size=(3, 3)))\n",
    "#model.add(Dropout(0.25))\n",
    "model.add(Flatten())\n",
    "model.add(Dense(64, activation='relu'))\n",
    "#model.add(Dropout(0.5))\n",
    "model.add(Dense(1, activation='sigmoid'))"
   ]
  },
  {
   "cell_type": "code",
   "execution_count": 12,
   "metadata": {
    "scrolled": true
   },
   "outputs": [
    {
     "name": "stdout",
     "output_type": "stream",
     "text": [
      "Model: \"sequential_1\"\n",
      "_________________________________________________________________\n",
      "Layer (type)                 Output Shape              Param #   \n",
      "=================================================================\n",
      "conv2d_1 (Conv2D)            (None, 236, 236, 6)       456       \n",
      "_________________________________________________________________\n",
      "conv2d_2 (Conv2D)            (None, 232, 232, 12)      1812      \n",
      "_________________________________________________________________\n",
      "activation_1 (Activation)    (None, 232, 232, 12)      0         \n",
      "_________________________________________________________________\n",
      "max_pooling2d_1 (MaxPooling2 (None, 116, 116, 12)      0         \n",
      "_________________________________________________________________\n",
      "conv2d_3 (Conv2D)            (None, 112, 112, 24)      7224      \n",
      "_________________________________________________________________\n",
      "activation_2 (Activation)    (None, 112, 112, 24)      0         \n",
      "_________________________________________________________________\n",
      "max_pooling2d_2 (MaxPooling2 (None, 37, 37, 24)        0         \n",
      "_________________________________________________________________\n",
      "conv2d_4 (Conv2D)            (None, 33, 33, 48)        28848     \n",
      "_________________________________________________________________\n",
      "activation_3 (Activation)    (None, 33, 33, 48)        0         \n",
      "_________________________________________________________________\n",
      "max_pooling2d_3 (MaxPooling2 (None, 11, 11, 48)        0         \n",
      "_________________________________________________________________\n",
      "flatten_1 (Flatten)          (None, 5808)              0         \n",
      "_________________________________________________________________\n",
      "dense_1 (Dense)              (None, 64)                371776    \n",
      "_________________________________________________________________\n",
      "dense_2 (Dense)              (None, 1)                 65        \n",
      "=================================================================\n",
      "Total params: 410,181\n",
      "Trainable params: 410,181\n",
      "Non-trainable params: 0\n",
      "_________________________________________________________________\n"
     ]
    }
   ],
   "source": [
    "model.summary()"
   ]
  },
  {
   "cell_type": "code",
   "execution_count": 13,
   "metadata": {},
   "outputs": [],
   "source": [
    "model.compile(loss=keras.losses.binary_crossentropy,\n",
    "              optimizer=keras.optimizers.Adam(),\n",
    "              metrics=['accuracy'])"
   ]
  },
  {
   "cell_type": "code",
   "execution_count": 14,
   "metadata": {
    "scrolled": false
   },
   "outputs": [
    {
     "name": "stdout",
     "output_type": "stream",
     "text": [
      "Train on 1638 samples, validate on 702 samples\n",
      "Epoch 1/5\n",
      "1638/1638 [==============================] - 175s 107ms/step - loss: 0.5885 - accuracy: 0.6368 - val_loss: 0.5101 - val_accuracy: 0.7194\n",
      "Epoch 2/5\n",
      "1638/1638 [==============================] - 150s 92ms/step - loss: 0.5328 - accuracy: 0.7106 - val_loss: 0.6588 - val_accuracy: 0.5157\n",
      "Epoch 3/5\n",
      "1638/1638 [==============================] - 146s 89ms/step - loss: 0.4372 - accuracy: 0.7582 - val_loss: 0.4616 - val_accuracy: 0.7564\n",
      "Epoch 4/5\n",
      "1638/1638 [==============================] - 132s 81ms/step - loss: 0.3981 - accuracy: 0.7589 - val_loss: 0.3768 - val_accuracy: 0.7664\n",
      "Epoch 5/5\n",
      "1638/1638 [==============================] - 128s 78ms/step - loss: 0.3994 - accuracy: 0.7668 - val_loss: 0.5894 - val_accuracy: 0.6681\n"
     ]
    }
   ],
   "source": [
    "history = model.fit(X_train, y_train,\n",
    "          batch_size=25,\n",
    "          epochs=5,\n",
    "          verbose=1,\n",
    "          validation_data=(X_test, y_test))"
   ]
  },
  {
   "cell_type": "code",
   "execution_count": 19,
   "metadata": {
    "scrolled": true
   },
   "outputs": [
    {
     "name": "stdout",
     "output_type": "stream",
     "text": [
      "Train on 1638 samples, validate on 702 samples\n",
      "Epoch 1/30\n",
      "1638/1638 [==============================] - 129s 79ms/step - loss: 0.4315 - accuracy: 0.7332 - val_loss: 0.3213 - val_accuracy: 0.7792\n",
      "Epoch 2/30\n",
      "1638/1638 [==============================] - 128s 78ms/step - loss: 0.2900 - accuracy: 0.8364 - val_loss: 0.3163 - val_accuracy: 0.8732\n",
      "Epoch 3/30\n",
      "1638/1638 [==============================] - 128s 78ms/step - loss: 0.3347 - accuracy: 0.8419 - val_loss: 0.4988 - val_accuracy: 0.7379\n",
      "Epoch 4/30\n",
      "1638/1638 [==============================] - 128s 78ms/step - loss: 0.3579 - accuracy: 0.8462 - val_loss: 0.4806 - val_accuracy: 0.6966\n",
      "Epoch 5/30\n",
      "1638/1638 [==============================] - 128s 78ms/step - loss: 0.3227 - accuracy: 0.7973 - val_loss: 0.3146 - val_accuracy: 0.8590\n",
      "Epoch 6/30\n",
      "1638/1638 [==============================] - 2741s 2s/step - loss: 0.2407 - accuracy: 0.9060 - val_loss: 0.2918 - val_accuracy: 0.9017\n",
      "Epoch 7/30\n",
      "1638/1638 [==============================] - 130s 80ms/step - loss: 0.1946 - accuracy: 0.9255 - val_loss: 0.3421 - val_accuracy: 0.9245\n",
      "Epoch 8/30\n",
      "1638/1638 [==============================] - 134s 82ms/step - loss: 0.1882 - accuracy: 0.9261 - val_loss: 0.2384 - val_accuracy: 0.9402\n",
      "Epoch 9/30\n",
      "1638/1638 [==============================] - 130s 80ms/step - loss: 0.1526 - accuracy: 0.9463 - val_loss: 0.2009 - val_accuracy: 0.9473\n",
      "Epoch 10/30\n",
      "1638/1638 [==============================] - 129s 79ms/step - loss: 0.1311 - accuracy: 0.9548 - val_loss: 0.1849 - val_accuracy: 0.9487\n",
      "Epoch 11/30\n",
      "1638/1638 [==============================] - 130s 79ms/step - loss: 0.1171 - accuracy: 0.9597 - val_loss: 0.2218 - val_accuracy: 0.9587\n",
      "Epoch 12/30\n",
      "1638/1638 [==============================] - 129s 79ms/step - loss: 0.0981 - accuracy: 0.9670 - val_loss: 0.2021 - val_accuracy: 0.9587\n",
      "Epoch 13/30\n",
      "1638/1638 [==============================] - 129s 79ms/step - loss: 0.0829 - accuracy: 0.9695 - val_loss: 0.1693 - val_accuracy: 0.9672\n",
      "Epoch 14/30\n",
      "1638/1638 [==============================] - 5777s 4s/step - loss: 0.0805 - accuracy: 0.9719 - val_loss: 0.1836 - val_accuracy: 0.9573\n",
      "Epoch 15/30\n",
      "1638/1638 [==============================] - 9752s 6s/step - loss: 0.0945 - accuracy: 0.9707 - val_loss: 0.1457 - val_accuracy: 0.9459\n",
      "Epoch 16/30\n",
      "1638/1638 [==============================] - 5219s 3s/step - loss: 0.1062 - accuracy: 0.9640 - val_loss: 0.1412 - val_accuracy: 0.9630\n",
      "Epoch 17/30\n",
      "1638/1638 [==============================] - 144s 88ms/step - loss: 0.1001 - accuracy: 0.9615 - val_loss: 0.2314 - val_accuracy: 0.9516\n",
      "Epoch 18/30\n",
      "1638/1638 [==============================] - 128s 78ms/step - loss: 0.0731 - accuracy: 0.9719 - val_loss: 0.1162 - val_accuracy: 0.9786\n",
      "Epoch 19/30\n",
      "1638/1638 [==============================] - 126s 77ms/step - loss: 0.0925 - accuracy: 0.9670 - val_loss: 0.1160 - val_accuracy: 0.9615\n",
      "Epoch 20/30\n",
      "1638/1638 [==============================] - 125s 76ms/step - loss: 0.0694 - accuracy: 0.9725 - val_loss: 0.1250 - val_accuracy: 0.9601\n",
      "Epoch 21/30\n",
      "1638/1638 [==============================] - 125s 76ms/step - loss: 0.0694 - accuracy: 0.9737 - val_loss: 0.1370 - val_accuracy: 0.9644\n",
      "Epoch 22/30\n",
      "1638/1638 [==============================] - 131s 80ms/step - loss: 0.0682 - accuracy: 0.9756 - val_loss: 0.1178 - val_accuracy: 0.9729\n",
      "Epoch 23/30\n",
      "1638/1638 [==============================] - 140s 85ms/step - loss: 0.0548 - accuracy: 0.9799 - val_loss: 0.1213 - val_accuracy: 0.9744\n",
      "Epoch 24/30\n",
      "1638/1638 [==============================] - 142s 87ms/step - loss: 0.0508 - accuracy: 0.9811 - val_loss: 0.1184 - val_accuracy: 0.9786\n",
      "Epoch 25/30\n",
      "1638/1638 [==============================] - 135s 82ms/step - loss: 0.0465 - accuracy: 0.9823 - val_loss: 0.1389 - val_accuracy: 0.9786\n",
      "Epoch 26/30\n",
      "1638/1638 [==============================] - 130s 80ms/step - loss: 0.0545 - accuracy: 0.9792 - val_loss: 0.1293 - val_accuracy: 0.9801\n",
      "Epoch 27/30\n",
      "1638/1638 [==============================] - 128s 78ms/step - loss: 0.0642 - accuracy: 0.9756 - val_loss: 0.1138 - val_accuracy: 0.9758\n",
      "Epoch 28/30\n",
      "1638/1638 [==============================] - 144s 88ms/step - loss: 0.0518 - accuracy: 0.9792 - val_loss: 0.1064 - val_accuracy: 0.9715\n",
      "Epoch 29/30\n",
      "1638/1638 [==============================] - 142s 87ms/step - loss: 0.0430 - accuracy: 0.9835 - val_loss: 0.1376 - val_accuracy: 0.9815\n",
      "Epoch 30/30\n",
      "1638/1638 [==============================] - 129s 79ms/step - loss: 0.0385 - accuracy: 0.9835 - val_loss: 0.1355 - val_accuracy: 0.9815\n"
     ]
    }
   ],
   "source": [
    "history = model.fit(X_train, y_train,\n",
    "          batch_size=25,\n",
    "          epochs=30,\n",
    "          verbose=1,\n",
    "          validation_data=(X_test, y_test))"
   ]
  },
  {
   "cell_type": "code",
   "execution_count": 20,
   "metadata": {},
   "outputs": [
    {
     "data": {
      "image/png": "[encoded data removed]",
      "text/plain": [
       "<Figure size 432x288 with 1 Axes>"
      ]
     },
     "metadata": {
      "needs_background": "light"
     },
     "output_type": "display_data"
    }
   ],
   "source": [
    "# Plot training & validation accuracy values\n",
    "plt.plot(history.history['accuracy'])\n",
    "plt.plot(history.history['val_accuracy'])\n",
    "plt.title('Model accuracy')\n",
    "plt.ylabel('Accuracy')\n",
    "plt.xlabel('Epoch')\n",
    "plt.legend(['Train', 'Test'], loc='upper left')\n",
    "plt.show()"
   ]
  },
  {
   "cell_type": "code",
   "execution_count": 21,
   "metadata": {},
   "outputs": [
    {
     "data": {
      "image/png": "[encoded data removed]",
      "text/plain": [
       "<Figure size 432x288 with 1 Axes>"
      ]
     },
     "metadata": {
      "needs_background": "light"
     },
     "output_type": "display_data"
    }
   ],
   "source": [
    "# Plot training & validation loss values\n",
    "plt.plot(history.history['loss'])\n",
    "plt.plot(history.history['val_loss'])\n",
    "plt.title('Model loss')\n",
    "plt.ylabel('Loss')\n",
    "plt.xlabel('Epoch')\n",
    "plt.legend(['Train', 'Test'], loc='upper left')\n",
    "plt.show()"
   ]
  },
  {
   "cell_type": "code",
   "execution_count": 22,
   "metadata": {},
   "outputs": [],
   "source": [
    " model.save('model.h5')"
   ]
  },
  {
   "cell_type": "code",
   "execution_count": null,
   "metadata": {},
   "outputs": [],
   "source": []
  }
 ],
 "metadata": {
  "kernelspec": {
   "display_name": "Python 3",
   "language": "python",
   "name": "python3"
  },
  "language_info": {
   "codemirror_mode": {
    "name": "ipython",
    "version": 3
   },
   "file_extension": ".py",
   "mimetype": "text/x-python",
   "name": "python",
   "nbconvert_exporter": "python",
   "pygments_lexer": "ipython3",
   "version": "3.6.8"
  }
 },
 "nbformat": 4,
 "nbformat_minor": 2
}
